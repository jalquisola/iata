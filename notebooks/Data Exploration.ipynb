{
 "cells": [
  {
   "cell_type": "code",
   "execution_count": 1,
   "metadata": {},
   "outputs": [],
   "source": [
    "import pandas as pd\n",
    "import seaborn as sns\n",
    "\n",
    "import matplotlib.pyplot as plt\n",
    "%matplotlib inline\n",
    "sns.set(style=\"whitegrid\", context='notebook', color_codes=True)"
   ]
  },
  {
   "cell_type": "markdown",
   "metadata": {},
   "source": [
    "The goal of this notebook is to explore our raw datasets and check if the dataset needs cleaning.\n",
    "After removing duplicates and handling missing values, we store the results in another CSV file."
   ]
  },
  {
   "cell_type": "markdown",
   "metadata": {},
   "source": [
    "# Events Dataset"
   ]
  },
  {
   "cell_type": "code",
   "execution_count": 2,
   "metadata": {},
   "outputs": [],
   "source": [
    "file_path = \"data/events_1_1.csv\"\n",
    "dataset = pd.read_csv(file_path)"
   ]
  },
  {
   "cell_type": "code",
   "execution_count": 3,
   "metadata": {},
   "outputs": [
    {
     "data": {
      "text/html": [
       "<div>\n",
       "<style scoped>\n",
       "    .dataframe tbody tr th:only-of-type {\n",
       "        vertical-align: middle;\n",
       "    }\n",
       "\n",
       "    .dataframe tbody tr th {\n",
       "        vertical-align: top;\n",
       "    }\n",
       "\n",
       "    .dataframe thead th {\n",
       "        text-align: right;\n",
       "    }\n",
       "</style>\n",
       "<table border=\"1\" class=\"dataframe\">\n",
       "  <thead>\n",
       "    <tr style=\"text-align: right;\">\n",
       "      <th></th>\n",
       "      <th>ts</th>\n",
       "      <th>event_type</th>\n",
       "      <th>user_id</th>\n",
       "      <th>date_from</th>\n",
       "      <th>date_to</th>\n",
       "      <th>origin</th>\n",
       "      <th>destination</th>\n",
       "      <th>num_adults</th>\n",
       "      <th>num_children</th>\n",
       "    </tr>\n",
       "  </thead>\n",
       "  <tbody>\n",
       "    <tr>\n",
       "      <th>0</th>\n",
       "      <td>2017-04-27 11:06:51</td>\n",
       "      <td>search</td>\n",
       "      <td>60225f</td>\n",
       "      <td>2017-06-01</td>\n",
       "      <td>2017-06-07</td>\n",
       "      <td>PAR</td>\n",
       "      <td>NYC</td>\n",
       "      <td>6</td>\n",
       "      <td>1</td>\n",
       "    </tr>\n",
       "    <tr>\n",
       "      <th>1</th>\n",
       "      <td>2017-04-27 20:15:27</td>\n",
       "      <td>book</td>\n",
       "      <td>e5d69e</td>\n",
       "      <td>2017-08-12</td>\n",
       "      <td>2017-09-02</td>\n",
       "      <td>FRA</td>\n",
       "      <td>WAS</td>\n",
       "      <td>3</td>\n",
       "      <td>1</td>\n",
       "    </tr>\n",
       "    <tr>\n",
       "      <th>2</th>\n",
       "      <td>2017-04-27 23:03:43</td>\n",
       "      <td>book</td>\n",
       "      <td>f953f0</td>\n",
       "      <td>2017-10-08</td>\n",
       "      <td>2017-10-11</td>\n",
       "      <td>BER</td>\n",
       "      <td>CGN</td>\n",
       "      <td>2</td>\n",
       "      <td>0</td>\n",
       "    </tr>\n",
       "    <tr>\n",
       "      <th>3</th>\n",
       "      <td>2017-04-27 15:17:50</td>\n",
       "      <td>book</td>\n",
       "      <td>794d35</td>\n",
       "      <td>2017-04-28</td>\n",
       "      <td>2017-05-01</td>\n",
       "      <td>BER</td>\n",
       "      <td>BCN</td>\n",
       "      <td>1</td>\n",
       "      <td>0</td>\n",
       "    </tr>\n",
       "    <tr>\n",
       "      <th>4</th>\n",
       "      <td>2017-04-27 22:51:57</td>\n",
       "      <td>book</td>\n",
       "      <td>ca4f94</td>\n",
       "      <td>2017-05-16</td>\n",
       "      <td>2017-05-22</td>\n",
       "      <td>DEL</td>\n",
       "      <td>BKK</td>\n",
       "      <td>4</td>\n",
       "      <td>0</td>\n",
       "    </tr>\n",
       "  </tbody>\n",
       "</table>\n",
       "</div>"
      ],
      "text/plain": [
       "                    ts event_type user_id   date_from     date_to origin  \\\n",
       "0  2017-04-27 11:06:51     search  60225f  2017-06-01  2017-06-07    PAR   \n",
       "1  2017-04-27 20:15:27       book  e5d69e  2017-08-12  2017-09-02    FRA   \n",
       "2  2017-04-27 23:03:43       book  f953f0  2017-10-08  2017-10-11    BER   \n",
       "3  2017-04-27 15:17:50       book  794d35  2017-04-28  2017-05-01    BER   \n",
       "4  2017-04-27 22:51:57       book  ca4f94  2017-05-16  2017-05-22    DEL   \n",
       "\n",
       "  destination  num_adults  num_children  \n",
       "0         NYC           6             1  \n",
       "1         WAS           3             1  \n",
       "2         CGN           2             0  \n",
       "3         BCN           1             0  \n",
       "4         BKK           4             0  "
      ]
     },
     "execution_count": 3,
     "metadata": {},
     "output_type": "execute_result"
    }
   ],
   "source": [
    "dataset.head()"
   ]
  },
  {
   "cell_type": "markdown",
   "metadata": {},
   "source": [
    "### Removing Duplicates"
   ]
  },
  {
   "cell_type": "markdown",
   "metadata": {},
   "source": [
    "First, we need to check if there are duplicates in our event dataset"
   ]
  },
  {
   "cell_type": "code",
   "execution_count": 4,
   "metadata": {
    "scrolled": true
   },
   "outputs": [
    {
     "data": {
      "text/plain": [
       "True"
      ]
     },
     "execution_count": 4,
     "metadata": {},
     "output_type": "execute_result"
    }
   ],
   "source": [
    "dataset.duplicated().values.any()"
   ]
  },
  {
   "cell_type": "markdown",
   "metadata": {},
   "source": [
    "Since our dataset has duplicated rows, let's remove those duplicated rows in our dataset by keeping the first entry."
   ]
  },
  {
   "cell_type": "code",
   "execution_count": 5,
   "metadata": {},
   "outputs": [],
   "source": [
    "dataset = dataset.drop_duplicates(keep='first')"
   ]
  },
  {
   "cell_type": "code",
   "execution_count": 6,
   "metadata": {},
   "outputs": [
    {
     "data": {
      "text/plain": [
       "False"
      ]
     },
     "execution_count": 6,
     "metadata": {},
     "output_type": "execute_result"
    }
   ],
   "source": [
    "dataset.duplicated().values.any()"
   ]
  },
  {
   "cell_type": "markdown",
   "metadata": {},
   "source": [
    "### Handling Missing Values"
   ]
  },
  {
   "cell_type": "markdown",
   "metadata": {},
   "source": [
    "First, we need to find those columns with missing data."
   ]
  },
  {
   "cell_type": "code",
   "execution_count": 7,
   "metadata": {},
   "outputs": [
    {
     "data": {
      "text/plain": [
       "Index(['date_from', 'date_to'], dtype='object')"
      ]
     },
     "execution_count": 7,
     "metadata": {},
     "output_type": "execute_result"
    }
   ],
   "source": [
    "dataset.columns[dataset.isnull().any()]"
   ]
  },
  {
   "cell_type": "markdown",
   "metadata": {},
   "source": [
    "We found `date_from` and `date_to` columns contains missing values in events dataset. Let us look at dataset deeper if we can do something by assigning default value or removing the data."
   ]
  },
  {
   "cell_type": "code",
   "execution_count": 8,
   "metadata": {},
   "outputs": [
    {
     "data": {
      "text/html": [
       "<div>\n",
       "<style scoped>\n",
       "    .dataframe tbody tr th:only-of-type {\n",
       "        vertical-align: middle;\n",
       "    }\n",
       "\n",
       "    .dataframe tbody tr th {\n",
       "        vertical-align: top;\n",
       "    }\n",
       "\n",
       "    .dataframe thead th {\n",
       "        text-align: right;\n",
       "    }\n",
       "</style>\n",
       "<table border=\"1\" class=\"dataframe\">\n",
       "  <thead>\n",
       "    <tr style=\"text-align: right;\">\n",
       "      <th></th>\n",
       "      <th>ts</th>\n",
       "      <th>event_type</th>\n",
       "      <th>user_id</th>\n",
       "      <th>date_from</th>\n",
       "      <th>date_to</th>\n",
       "      <th>origin</th>\n",
       "      <th>destination</th>\n",
       "      <th>num_adults</th>\n",
       "      <th>num_children</th>\n",
       "    </tr>\n",
       "  </thead>\n",
       "  <tbody>\n",
       "    <tr>\n",
       "      <th>13796</th>\n",
       "      <td>2017-04-23 19:02:48</td>\n",
       "      <td>search</td>\n",
       "      <td>299320</td>\n",
       "      <td>NaN</td>\n",
       "      <td>NaN</td>\n",
       "      <td>BRU</td>\n",
       "      <td>TLS</td>\n",
       "      <td>0</td>\n",
       "      <td>0</td>\n",
       "    </tr>\n",
       "    <tr>\n",
       "      <th>18675</th>\n",
       "      <td>2017-04-24 21:13:32</td>\n",
       "      <td>search</td>\n",
       "      <td>2ac874</td>\n",
       "      <td>NaN</td>\n",
       "      <td>NaN</td>\n",
       "      <td>AYT</td>\n",
       "      <td>DUS</td>\n",
       "      <td>0</td>\n",
       "      <td>0</td>\n",
       "    </tr>\n",
       "    <tr>\n",
       "      <th>26012</th>\n",
       "      <td>2017-04-28 18:12:17</td>\n",
       "      <td>search</td>\n",
       "      <td>d02975</td>\n",
       "      <td>NaN</td>\n",
       "      <td>NaN</td>\n",
       "      <td>DUB</td>\n",
       "      <td>AMS</td>\n",
       "      <td>0</td>\n",
       "      <td>0</td>\n",
       "    </tr>\n",
       "  </tbody>\n",
       "</table>\n",
       "</div>"
      ],
      "text/plain": [
       "                        ts event_type user_id date_from date_to origin  \\\n",
       "13796  2017-04-23 19:02:48     search  299320       NaN     NaN    BRU   \n",
       "18675  2017-04-24 21:13:32     search  2ac874       NaN     NaN    AYT   \n",
       "26012  2017-04-28 18:12:17     search  d02975       NaN     NaN    DUB   \n",
       "\n",
       "      destination  num_adults  num_children  \n",
       "13796         TLS           0             0  \n",
       "18675         DUS           0             0  \n",
       "26012         AMS           0             0  "
      ]
     },
     "execution_count": 8,
     "metadata": {},
     "output_type": "execute_result"
    }
   ],
   "source": [
    "missing_date_to = dataset[dataset['date_to'].isnull()]\n",
    "missing_date_to"
   ]
  },
  {
   "cell_type": "markdown",
   "metadata": {},
   "source": [
    "We found that there are only 3 users who have missing `date_to`. Now, let's look at all the data from these 3 users."
   ]
  },
  {
   "cell_type": "code",
   "execution_count": 9,
   "metadata": {},
   "outputs": [
    {
     "data": {
      "text/html": [
       "<div>\n",
       "<style scoped>\n",
       "    .dataframe tbody tr th:only-of-type {\n",
       "        vertical-align: middle;\n",
       "    }\n",
       "\n",
       "    .dataframe tbody tr th {\n",
       "        vertical-align: top;\n",
       "    }\n",
       "\n",
       "    .dataframe thead th {\n",
       "        text-align: right;\n",
       "    }\n",
       "</style>\n",
       "<table border=\"1\" class=\"dataframe\">\n",
       "  <thead>\n",
       "    <tr style=\"text-align: right;\">\n",
       "      <th></th>\n",
       "      <th>ts</th>\n",
       "      <th>event_type</th>\n",
       "      <th>user_id</th>\n",
       "      <th>date_from</th>\n",
       "      <th>date_to</th>\n",
       "      <th>origin</th>\n",
       "      <th>destination</th>\n",
       "      <th>num_adults</th>\n",
       "      <th>num_children</th>\n",
       "    </tr>\n",
       "  </thead>\n",
       "  <tbody>\n",
       "    <tr>\n",
       "      <th>13796</th>\n",
       "      <td>2017-04-23 19:02:48</td>\n",
       "      <td>search</td>\n",
       "      <td>299320</td>\n",
       "      <td>NaN</td>\n",
       "      <td>NaN</td>\n",
       "      <td>BRU</td>\n",
       "      <td>TLS</td>\n",
       "      <td>0</td>\n",
       "      <td>0</td>\n",
       "    </tr>\n",
       "    <tr>\n",
       "      <th>18675</th>\n",
       "      <td>2017-04-24 21:13:32</td>\n",
       "      <td>search</td>\n",
       "      <td>2ac874</td>\n",
       "      <td>NaN</td>\n",
       "      <td>NaN</td>\n",
       "      <td>AYT</td>\n",
       "      <td>DUS</td>\n",
       "      <td>0</td>\n",
       "      <td>0</td>\n",
       "    </tr>\n",
       "    <tr>\n",
       "      <th>26012</th>\n",
       "      <td>2017-04-28 18:12:17</td>\n",
       "      <td>search</td>\n",
       "      <td>d02975</td>\n",
       "      <td>NaN</td>\n",
       "      <td>NaN</td>\n",
       "      <td>DUB</td>\n",
       "      <td>AMS</td>\n",
       "      <td>0</td>\n",
       "      <td>0</td>\n",
       "    </tr>\n",
       "  </tbody>\n",
       "</table>\n",
       "</div>"
      ],
      "text/plain": [
       "                        ts event_type user_id date_from date_to origin  \\\n",
       "13796  2017-04-23 19:02:48     search  299320       NaN     NaN    BRU   \n",
       "18675  2017-04-24 21:13:32     search  2ac874       NaN     NaN    AYT   \n",
       "26012  2017-04-28 18:12:17     search  d02975       NaN     NaN    DUB   \n",
       "\n",
       "      destination  num_adults  num_children  \n",
       "13796         TLS           0             0  \n",
       "18675         DUS           0             0  \n",
       "26012         AMS           0             0  "
      ]
     },
     "execution_count": 9,
     "metadata": {},
     "output_type": "execute_result"
    }
   ],
   "source": [
    "user_ids = missing_date_to['user_id'].tolist()\n",
    "dataset[dataset['user_id'].isin(user_ids)]"
   ]
  },
  {
   "cell_type": "markdown",
   "metadata": {},
   "source": [
    "We have found that each user has only 1 activity with search `event_type` and missing `date_from` and `date_to`. Since we are interested to users with multiple activities to help us classify if they are most likely to book in the platform, I consider these 3 users with 1 activity and missing `date_to` a noise data. Thus, I remove those data."
   ]
  },
  {
   "cell_type": "code",
   "execution_count": 10,
   "metadata": {},
   "outputs": [],
   "source": [
    "dataset = dataset[~dataset['user_id'].isin(user_ids)] #removes the data from users 299320, 2ac874, d02975"
   ]
  },
  {
   "cell_type": "markdown",
   "metadata": {},
   "source": [
    "Now, let's look at our dataset with missing `date_from`."
   ]
  },
  {
   "cell_type": "code",
   "execution_count": 11,
   "metadata": {},
   "outputs": [],
   "source": [
    "missing_date_from = dataset[dataset['date_from'].isnull()]"
   ]
  },
  {
   "cell_type": "code",
   "execution_count": 12,
   "metadata": {
    "scrolled": false
   },
   "outputs": [
    {
     "data": {
      "text/html": [
       "<div>\n",
       "<style scoped>\n",
       "    .dataframe tbody tr th:only-of-type {\n",
       "        vertical-align: middle;\n",
       "    }\n",
       "\n",
       "    .dataframe tbody tr th {\n",
       "        vertical-align: top;\n",
       "    }\n",
       "\n",
       "    .dataframe thead th {\n",
       "        text-align: right;\n",
       "    }\n",
       "</style>\n",
       "<table border=\"1\" class=\"dataframe\">\n",
       "  <thead>\n",
       "    <tr style=\"text-align: right;\">\n",
       "      <th></th>\n",
       "      <th>ts</th>\n",
       "      <th>event_type</th>\n",
       "      <th>user_id</th>\n",
       "      <th>date_from</th>\n",
       "      <th>date_to</th>\n",
       "      <th>origin</th>\n",
       "      <th>destination</th>\n",
       "      <th>num_adults</th>\n",
       "      <th>num_children</th>\n",
       "    </tr>\n",
       "  </thead>\n",
       "  <tbody>\n",
       "    <tr>\n",
       "      <th>19137</th>\n",
       "      <td>2017-04-29 21:31:57</td>\n",
       "      <td>search</td>\n",
       "      <td>139d74</td>\n",
       "      <td>NaN</td>\n",
       "      <td>2017-09-02</td>\n",
       "      <td>CGN</td>\n",
       "      <td>AYT</td>\n",
       "      <td>0</td>\n",
       "      <td>0</td>\n",
       "    </tr>\n",
       "    <tr>\n",
       "      <th>31060</th>\n",
       "      <td>2017-04-29 21:36:04</td>\n",
       "      <td>search</td>\n",
       "      <td>139d74</td>\n",
       "      <td>NaN</td>\n",
       "      <td>2017-09-02</td>\n",
       "      <td>CGN</td>\n",
       "      <td>AYT</td>\n",
       "      <td>0</td>\n",
       "      <td>0</td>\n",
       "    </tr>\n",
       "    <tr>\n",
       "      <th>31061</th>\n",
       "      <td>2017-04-29 21:37:20</td>\n",
       "      <td>search</td>\n",
       "      <td>139d74</td>\n",
       "      <td>NaN</td>\n",
       "      <td>2017-09-02</td>\n",
       "      <td>CGN</td>\n",
       "      <td>AYT</td>\n",
       "      <td>0</td>\n",
       "      <td>0</td>\n",
       "    </tr>\n",
       "    <tr>\n",
       "      <th>44642</th>\n",
       "      <td>2017-05-01 00:18:23</td>\n",
       "      <td>search</td>\n",
       "      <td>15568d</td>\n",
       "      <td>NaN</td>\n",
       "      <td>2017-06-20</td>\n",
       "      <td>AMS</td>\n",
       "      <td>IST</td>\n",
       "      <td>0</td>\n",
       "      <td>0</td>\n",
       "    </tr>\n",
       "    <tr>\n",
       "      <th>41752</th>\n",
       "      <td>2017-04-27 15:58:06</td>\n",
       "      <td>search</td>\n",
       "      <td>3e44c4</td>\n",
       "      <td>NaN</td>\n",
       "      <td>2017-06-23</td>\n",
       "      <td>AMS</td>\n",
       "      <td>MAD</td>\n",
       "      <td>0</td>\n",
       "      <td>0</td>\n",
       "    </tr>\n",
       "    <tr>\n",
       "      <th>23407</th>\n",
       "      <td>2017-04-27 17:52:49</td>\n",
       "      <td>search</td>\n",
       "      <td>450011</td>\n",
       "      <td>NaN</td>\n",
       "      <td>2018-04-02</td>\n",
       "      <td>BKK</td>\n",
       "      <td>DUS</td>\n",
       "      <td>0</td>\n",
       "      <td>0</td>\n",
       "    </tr>\n",
       "    <tr>\n",
       "      <th>20664</th>\n",
       "      <td>2017-04-27 19:35:16</td>\n",
       "      <td>search</td>\n",
       "      <td>450011</td>\n",
       "      <td>NaN</td>\n",
       "      <td>2017-07-10</td>\n",
       "      <td>DUS</td>\n",
       "      <td>BKK</td>\n",
       "      <td>0</td>\n",
       "      <td>0</td>\n",
       "    </tr>\n",
       "    <tr>\n",
       "      <th>5476</th>\n",
       "      <td>2017-04-28 23:24:26</td>\n",
       "      <td>search</td>\n",
       "      <td>46cad7</td>\n",
       "      <td>NaN</td>\n",
       "      <td>2017-05-24</td>\n",
       "      <td>AMS</td>\n",
       "      <td>MUC</td>\n",
       "      <td>0</td>\n",
       "      <td>0</td>\n",
       "    </tr>\n",
       "    <tr>\n",
       "      <th>8407</th>\n",
       "      <td>2017-04-28 23:25:25</td>\n",
       "      <td>search</td>\n",
       "      <td>46cad7</td>\n",
       "      <td>NaN</td>\n",
       "      <td>2017-05-24</td>\n",
       "      <td>AMS</td>\n",
       "      <td>MUC</td>\n",
       "      <td>0</td>\n",
       "      <td>0</td>\n",
       "    </tr>\n",
       "    <tr>\n",
       "      <th>7580</th>\n",
       "      <td>2017-04-28 23:41:06</td>\n",
       "      <td>search</td>\n",
       "      <td>46cad7</td>\n",
       "      <td>NaN</td>\n",
       "      <td>2017-05-24</td>\n",
       "      <td>AMS</td>\n",
       "      <td>MUC</td>\n",
       "      <td>0</td>\n",
       "      <td>0</td>\n",
       "    </tr>\n",
       "    <tr>\n",
       "      <th>7687</th>\n",
       "      <td>2017-04-28 23:52:17</td>\n",
       "      <td>book</td>\n",
       "      <td>46cad7</td>\n",
       "      <td>NaN</td>\n",
       "      <td>2017-05-24</td>\n",
       "      <td>AMS</td>\n",
       "      <td>MUC</td>\n",
       "      <td>0</td>\n",
       "      <td>0</td>\n",
       "    </tr>\n",
       "    <tr>\n",
       "      <th>36901</th>\n",
       "      <td>2017-04-27 20:24:07</td>\n",
       "      <td>search</td>\n",
       "      <td>4df495</td>\n",
       "      <td>NaN</td>\n",
       "      <td>2017-05-20</td>\n",
       "      <td>AMS</td>\n",
       "      <td>NKG</td>\n",
       "      <td>0</td>\n",
       "      <td>0</td>\n",
       "    </tr>\n",
       "    <tr>\n",
       "      <th>39245</th>\n",
       "      <td>2017-04-28 11:45:42</td>\n",
       "      <td>search</td>\n",
       "      <td>778373</td>\n",
       "      <td>NaN</td>\n",
       "      <td>2017-05-20</td>\n",
       "      <td>AMS</td>\n",
       "      <td>BER</td>\n",
       "      <td>0</td>\n",
       "      <td>0</td>\n",
       "    </tr>\n",
       "    <tr>\n",
       "      <th>45467</th>\n",
       "      <td>2017-04-27 13:07:25</td>\n",
       "      <td>search</td>\n",
       "      <td>786588</td>\n",
       "      <td>2017-06-14</td>\n",
       "      <td>2017-06-29</td>\n",
       "      <td>AMS</td>\n",
       "      <td>DTT</td>\n",
       "      <td>2</td>\n",
       "      <td>2</td>\n",
       "    </tr>\n",
       "    <tr>\n",
       "      <th>41754</th>\n",
       "      <td>2017-04-27 13:20:22</td>\n",
       "      <td>search</td>\n",
       "      <td>786588</td>\n",
       "      <td>NaN</td>\n",
       "      <td>2017-06-28</td>\n",
       "      <td>AMS</td>\n",
       "      <td>MSP</td>\n",
       "      <td>0</td>\n",
       "      <td>0</td>\n",
       "    </tr>\n",
       "    <tr>\n",
       "      <th>39736</th>\n",
       "      <td>2017-04-23 12:54:05</td>\n",
       "      <td>search</td>\n",
       "      <td>ced484</td>\n",
       "      <td>NaN</td>\n",
       "      <td>2017-06-07</td>\n",
       "      <td>BRU</td>\n",
       "      <td>CPH</td>\n",
       "      <td>0</td>\n",
       "      <td>0</td>\n",
       "    </tr>\n",
       "    <tr>\n",
       "      <th>23823</th>\n",
       "      <td>2017-04-29 23:41:04</td>\n",
       "      <td>search</td>\n",
       "      <td>f31669</td>\n",
       "      <td>NaN</td>\n",
       "      <td>2017-05-20</td>\n",
       "      <td>AMS</td>\n",
       "      <td>ZRH</td>\n",
       "      <td>0</td>\n",
       "      <td>0</td>\n",
       "    </tr>\n",
       "    <tr>\n",
       "      <th>43285</th>\n",
       "      <td>2017-04-28 09:46:21</td>\n",
       "      <td>search</td>\n",
       "      <td>f74322</td>\n",
       "      <td>NaN</td>\n",
       "      <td>2017-05-31</td>\n",
       "      <td>AMS</td>\n",
       "      <td>HEL</td>\n",
       "      <td>0</td>\n",
       "      <td>0</td>\n",
       "    </tr>\n",
       "    <tr>\n",
       "      <th>36006</th>\n",
       "      <td>2017-04-28 09:46:31</td>\n",
       "      <td>search</td>\n",
       "      <td>f74322</td>\n",
       "      <td>NaN</td>\n",
       "      <td>2017-05-31</td>\n",
       "      <td>AMS</td>\n",
       "      <td>HEL</td>\n",
       "      <td>0</td>\n",
       "      <td>0</td>\n",
       "    </tr>\n",
       "    <tr>\n",
       "      <th>15677</th>\n",
       "      <td>2017-04-29 16:16:49</td>\n",
       "      <td>search</td>\n",
       "      <td>f78263</td>\n",
       "      <td>NaN</td>\n",
       "      <td>2018-02-23</td>\n",
       "      <td>DUS</td>\n",
       "      <td>CPT</td>\n",
       "      <td>0</td>\n",
       "      <td>0</td>\n",
       "    </tr>\n",
       "  </tbody>\n",
       "</table>\n",
       "</div>"
      ],
      "text/plain": [
       "                        ts event_type user_id   date_from     date_to origin  \\\n",
       "19137  2017-04-29 21:31:57     search  139d74         NaN  2017-09-02    CGN   \n",
       "31060  2017-04-29 21:36:04     search  139d74         NaN  2017-09-02    CGN   \n",
       "31061  2017-04-29 21:37:20     search  139d74         NaN  2017-09-02    CGN   \n",
       "44642  2017-05-01 00:18:23     search  15568d         NaN  2017-06-20    AMS   \n",
       "41752  2017-04-27 15:58:06     search  3e44c4         NaN  2017-06-23    AMS   \n",
       "23407  2017-04-27 17:52:49     search  450011         NaN  2018-04-02    BKK   \n",
       "20664  2017-04-27 19:35:16     search  450011         NaN  2017-07-10    DUS   \n",
       "5476   2017-04-28 23:24:26     search  46cad7         NaN  2017-05-24    AMS   \n",
       "8407   2017-04-28 23:25:25     search  46cad7         NaN  2017-05-24    AMS   \n",
       "7580   2017-04-28 23:41:06     search  46cad7         NaN  2017-05-24    AMS   \n",
       "7687   2017-04-28 23:52:17       book  46cad7         NaN  2017-05-24    AMS   \n",
       "36901  2017-04-27 20:24:07     search  4df495         NaN  2017-05-20    AMS   \n",
       "39245  2017-04-28 11:45:42     search  778373         NaN  2017-05-20    AMS   \n",
       "45467  2017-04-27 13:07:25     search  786588  2017-06-14  2017-06-29    AMS   \n",
       "41754  2017-04-27 13:20:22     search  786588         NaN  2017-06-28    AMS   \n",
       "39736  2017-04-23 12:54:05     search  ced484         NaN  2017-06-07    BRU   \n",
       "23823  2017-04-29 23:41:04     search  f31669         NaN  2017-05-20    AMS   \n",
       "43285  2017-04-28 09:46:21     search  f74322         NaN  2017-05-31    AMS   \n",
       "36006  2017-04-28 09:46:31     search  f74322         NaN  2017-05-31    AMS   \n",
       "15677  2017-04-29 16:16:49     search  f78263         NaN  2018-02-23    DUS   \n",
       "\n",
       "      destination  num_adults  num_children  \n",
       "19137         AYT           0             0  \n",
       "31060         AYT           0             0  \n",
       "31061         AYT           0             0  \n",
       "44642         IST           0             0  \n",
       "41752         MAD           0             0  \n",
       "23407         DUS           0             0  \n",
       "20664         BKK           0             0  \n",
       "5476          MUC           0             0  \n",
       "8407          MUC           0             0  \n",
       "7580          MUC           0             0  \n",
       "7687          MUC           0             0  \n",
       "36901         NKG           0             0  \n",
       "39245         BER           0             0  \n",
       "45467         DTT           2             2  \n",
       "41754         MSP           0             0  \n",
       "39736         CPH           0             0  \n",
       "23823         ZRH           0             0  \n",
       "43285         HEL           0             0  \n",
       "36006         HEL           0             0  \n",
       "15677         CPT           0             0  "
      ]
     },
     "execution_count": 12,
     "metadata": {},
     "output_type": "execute_result"
    }
   ],
   "source": [
    "user_ids = missing_date_from['user_id'].tolist()\n",
    "user_events_with_missing_date_from = dataset[dataset['user_id'].isin(user_ids)].sort_values(by=['user_id', 'ts'])\n",
    "user_events_with_missing_date_from"
   ]
  },
  {
   "cell_type": "code",
   "execution_count": 13,
   "metadata": {},
   "outputs": [
    {
     "data": {
      "text/plain": [
       "<matplotlib.axes._subplots.AxesSubplot at 0x1108e72b0>"
      ]
     },
     "execution_count": 13,
     "metadata": {},
     "output_type": "execute_result"
    },
    {
     "data": {
      "image/png": "[encoded data removed]",
      "text/plain": [
       "<Figure size 432x288 with 1 Axes>"
      ]
     },
     "metadata": {},
     "output_type": "display_data"
    }
   ],
   "source": [
    "temp = user_events_with_missing_date_from.groupby(['user_id', 'event_type']).count()\n",
    "sns.countplot(x='user_id', data=user_events_with_missing_date_from)"
   ]
  },
  {
   "cell_type": "markdown",
   "metadata": {},
   "source": [
    "As we can see in our graph, there are 12 unique users who had missing `date_from` in their event data. \n",
    "There are 5 users with 2 or more events and 7 users have only 1 event.\n",
    "User `46cad7` has 3 search and 1 book events but if we look at the data closely `num_children` and `num_adults` have 0 values. To my knowledge, a valid book event should have dates and corresponding number of people.\n",
    "\n",
    "We have 19 rows with missing `date_from` and their corresponding `num_children` and `num_adults` are 0. I consider them a noise data and remove them in our dataset."
   ]
  },
  {
   "cell_type": "code",
   "execution_count": 14,
   "metadata": {},
   "outputs": [
    {
     "data": {
      "text/plain": [
       "Index([], dtype='object')"
      ]
     },
     "execution_count": 14,
     "metadata": {},
     "output_type": "execute_result"
    }
   ],
   "source": [
    "dataset = dataset.dropna(subset=['date_from'])\n",
    "dataset.columns[dataset.isnull().any()]"
   ]
  },
  {
   "cell_type": "markdown",
   "metadata": {},
   "source": [
    "Save the new dataset to `data/events_no_duplicates.csv`"
   ]
  },
  {
   "cell_type": "code",
   "execution_count": 29,
   "metadata": {},
   "outputs": [],
   "source": [
    "dataset.to_csv('data/events_no_duplicates.csv', index=False)"
   ]
  },
  {
   "cell_type": "markdown",
   "metadata": {},
   "source": [
    "# IATA Code Dataset"
   ]
  },
  {
   "cell_type": "code",
   "execution_count": 15,
   "metadata": {},
   "outputs": [],
   "source": [
    "file_path = \"data/iata_1_1.csv\"\n",
    "iata = pd.read_csv(file_path)"
   ]
  },
  {
   "cell_type": "markdown",
   "metadata": {},
   "source": [
    "## Removing Duplicates"
   ]
  },
  {
   "cell_type": "markdown",
   "metadata": {},
   "source": [
    "First, we need to check if there are duplicates in our dataset"
   ]
  },
  {
   "cell_type": "code",
   "execution_count": 16,
   "metadata": {
    "scrolled": true
   },
   "outputs": [
    {
     "data": {
      "text/plain": [
       "True"
      ]
     },
     "execution_count": 16,
     "metadata": {},
     "output_type": "execute_result"
    }
   ],
   "source": [
    "iata.duplicated().values.any()"
   ]
  },
  {
   "cell_type": "markdown",
   "metadata": {},
   "source": [
    "Since our dataset has duplicated rows, let's remove those duplicated rows in our dataset by keeping the first entry."
   ]
  },
  {
   "cell_type": "code",
   "execution_count": 17,
   "metadata": {},
   "outputs": [],
   "source": [
    "iata = iata.drop_duplicates(keep='first')"
   ]
  },
  {
   "cell_type": "code",
   "execution_count": 18,
   "metadata": {},
   "outputs": [
    {
     "data": {
      "text/plain": [
       "False"
      ]
     },
     "execution_count": 18,
     "metadata": {},
     "output_type": "execute_result"
    }
   ],
   "source": [
    "iata.duplicated().values.any()"
   ]
  },
  {
   "cell_type": "code",
   "execution_count": 19,
   "metadata": {},
   "outputs": [
    {
     "data": {
      "text/plain": [
       "False"
      ]
     },
     "execution_count": 19,
     "metadata": {},
     "output_type": "execute_result"
    }
   ],
   "source": [
    "iata.duplicated().values.any()"
   ]
  },
  {
   "cell_type": "code",
   "execution_count": 20,
   "metadata": {},
   "outputs": [
    {
     "data": {
      "text/plain": [
       "Index([], dtype='object')"
      ]
     },
     "execution_count": 20,
     "metadata": {},
     "output_type": "execute_result"
    }
   ],
   "source": [
    "### Check for missing values\n",
    "iata.columns[iata.isnull().any()]"
   ]
  },
  {
   "cell_type": "markdown",
   "metadata": {},
   "source": [
    "Our iata dataset has no missing values."
   ]
  },
  {
   "cell_type": "code",
   "execution_count": 21,
   "metadata": {},
   "outputs": [
    {
     "data": {
      "text/html": [
       "<div>\n",
       "<style scoped>\n",
       "    .dataframe tbody tr th:only-of-type {\n",
       "        vertical-align: middle;\n",
       "    }\n",
       "\n",
       "    .dataframe tbody tr th {\n",
       "        vertical-align: top;\n",
       "    }\n",
       "\n",
       "    .dataframe thead th {\n",
       "        text-align: right;\n",
       "    }\n",
       "</style>\n",
       "<table border=\"1\" class=\"dataframe\">\n",
       "  <thead>\n",
       "    <tr style=\"text-align: right;\">\n",
       "      <th></th>\n",
       "      <th>iata_code</th>\n",
       "      <th>lat</th>\n",
       "      <th>lon</th>\n",
       "    </tr>\n",
       "  </thead>\n",
       "  <tbody>\n",
       "    <tr>\n",
       "      <th>338</th>\n",
       "      <td>ABV</td>\n",
       "      <td>9.01</td>\n",
       "      <td>7.26</td>\n",
       "    </tr>\n",
       "    <tr>\n",
       "      <th>337</th>\n",
       "      <td>ABV</td>\n",
       "      <td>9.06</td>\n",
       "      <td>7.50</td>\n",
       "    </tr>\n",
       "    <tr>\n",
       "      <th>395</th>\n",
       "      <td>ADB</td>\n",
       "      <td>38.29</td>\n",
       "      <td>27.16</td>\n",
       "    </tr>\n",
       "    <tr>\n",
       "      <th>172</th>\n",
       "      <td>ADD</td>\n",
       "      <td>8.98</td>\n",
       "      <td>38.80</td>\n",
       "    </tr>\n",
       "    <tr>\n",
       "      <th>171</th>\n",
       "      <td>ADD</td>\n",
       "      <td>9.02</td>\n",
       "      <td>38.75</td>\n",
       "    </tr>\n",
       "  </tbody>\n",
       "</table>\n",
       "</div>"
      ],
      "text/plain": [
       "    iata_code    lat    lon\n",
       "338       ABV   9.01   7.26\n",
       "337       ABV   9.06   7.50\n",
       "395       ADB  38.29  27.16\n",
       "172       ADD   8.98  38.80\n",
       "171       ADD   9.02  38.75"
      ]
     },
     "execution_count": 21,
     "metadata": {},
     "output_type": "execute_result"
    }
   ],
   "source": [
    "iata.sort_values(by='iata_code').head()"
   ]
  },
  {
   "cell_type": "markdown",
   "metadata": {},
   "source": [
    "I discovered that `iata_code` in our IATA dataset is not unique and different values of `lat` and `lon`.\n",
    "This can be confusing when calculating the geo distance between two airports. To avoid confusion, let's consider only the first record of the iata_code with multiple `lat` and `lon` values."
   ]
  },
  {
   "cell_type": "code",
   "execution_count": 22,
   "metadata": {},
   "outputs": [],
   "source": [
    "iata = iata.drop_duplicates(subset=['iata_code'], keep='first')"
   ]
  },
  {
   "cell_type": "code",
   "execution_count": 23,
   "metadata": {},
   "outputs": [
    {
     "data": {
      "text/html": [
       "<div>\n",
       "<style scoped>\n",
       "    .dataframe tbody tr th:only-of-type {\n",
       "        vertical-align: middle;\n",
       "    }\n",
       "\n",
       "    .dataframe tbody tr th {\n",
       "        vertical-align: top;\n",
       "    }\n",
       "\n",
       "    .dataframe thead th {\n",
       "        text-align: right;\n",
       "    }\n",
       "</style>\n",
       "<table border=\"1\" class=\"dataframe\">\n",
       "  <thead>\n",
       "    <tr style=\"text-align: right;\">\n",
       "      <th></th>\n",
       "      <th>iata_code</th>\n",
       "      <th>lat</th>\n",
       "      <th>lon</th>\n",
       "    </tr>\n",
       "  </thead>\n",
       "  <tbody>\n",
       "    <tr>\n",
       "      <th>337</th>\n",
       "      <td>ABV</td>\n",
       "      <td>9.06</td>\n",
       "      <td>7.50</td>\n",
       "    </tr>\n",
       "    <tr>\n",
       "      <th>395</th>\n",
       "      <td>ADB</td>\n",
       "      <td>38.29</td>\n",
       "      <td>27.16</td>\n",
       "    </tr>\n",
       "    <tr>\n",
       "      <th>171</th>\n",
       "      <td>ADD</td>\n",
       "      <td>9.02</td>\n",
       "      <td>38.75</td>\n",
       "    </tr>\n",
       "    <tr>\n",
       "      <th>254</th>\n",
       "      <td>ADL</td>\n",
       "      <td>-34.94</td>\n",
       "      <td>138.53</td>\n",
       "    </tr>\n",
       "    <tr>\n",
       "      <th>133</th>\n",
       "      <td>AEP</td>\n",
       "      <td>-34.56</td>\n",
       "      <td>-58.42</td>\n",
       "    </tr>\n",
       "  </tbody>\n",
       "</table>\n",
       "</div>"
      ],
      "text/plain": [
       "    iata_code    lat     lon\n",
       "337       ABV   9.06    7.50\n",
       "395       ADB  38.29   27.16\n",
       "171       ADD   9.02   38.75\n",
       "254       ADL -34.94  138.53\n",
       "133       AEP -34.56  -58.42"
      ]
     },
     "execution_count": 23,
     "metadata": {},
     "output_type": "execute_result"
    }
   ],
   "source": [
    "iata.sort_values(by='iata_code').head()"
   ]
  },
  {
   "cell_type": "code",
   "execution_count": 24,
   "metadata": {},
   "outputs": [],
   "source": [
    "iata.to_csv('data/iata_no_duplicates.csv', index=False)"
   ]
  }
 ],
 "metadata": {
  "kernelspec": {
   "display_name": "Python 3",
   "language": "python",
   "name": "python3"
  },
  "language_info": {
   "codemirror_mode": {
    "name": "ipython",
    "version": 3
   },
   "file_extension": ".py",
   "mimetype": "text/x-python",
   "name": "python",
   "nbconvert_exporter": "python",
   "pygments_lexer": "ipython3",
   "version": "3.7.3"
  }
 },
 "nbformat": 4,
 "nbformat_minor": 4
}
